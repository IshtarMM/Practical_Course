{
  "nbformat": 4,
  "nbformat_minor": 0,
  "metadata": {
    "colab": {
      "provenance": [],
      "include_colab_link": true
    },
    "kernelspec": {
      "name": "ir",
      "display_name": "R"
    },
    "language_info": {
      "name": "R"
    }
  },
  "cells": [
    {
      "cell_type": "markdown",
      "metadata": {
        "id": "view-in-github",
        "colab_type": "text"
      },
      "source": [
        "<a href=\"https://colab.research.google.com/github/IshtarMM/Practical_Course/blob/master/Copy_of_Answers_MicrobiomeData_KemenLab_2023.ipynb\" target=\"_parent\"><img src=\"https://colab.research.google.com/assets/colab-badge.svg\" alt=\"Open In Colab\"/></a>"
      ]
    },
    {
      "cell_type": "markdown",
      "source": [
        "##<font color='red'>Q1:</font>"
      ],
      "metadata": {
        "id": "fS0ojzbfsVAB"
      }
    },
    {
      "cell_type": "code",
      "source": [
        "table(metadata$Year, metadata$Season, metadata$Infection_Stage)"
      ],
      "metadata": {
        "id": "YAEzpjDIsXA-"
      },
      "execution_count": null,
      "outputs": []
    },
    {
      "cell_type": "markdown",
      "source": [
        "##<font color='red'>Q2:</font>"
      ],
      "metadata": {
        "id": "33kg8v7psZDv"
      }
    },
    {
      "cell_type": "code",
      "source": [
        "print(paste(\"Maximum Numer of Reads per Sample: \", max(tab_sample$ReadSumPerSample)))\n",
        "print(paste(\"Minimum Numer of Reads per Sample: \", min(tab_sample$ReadSumPerSample)))\n",
        "print(paste(\"Average Numer of Reads per Sample: \", mean(tab_sample$ReadSumPerSample)))"
      ],
      "metadata": {
        "id": "-tFJnzpBscOB"
      },
      "execution_count": null,
      "outputs": []
    },
    {
      "cell_type": "markdown",
      "source": [
        "##<font color='red'>Q3:</font>"
      ],
      "metadata": {
        "id": "Wm1Px6nAsgBS"
      }
    },
    {
      "cell_type": "code",
      "source": [
        "cat(\"Maximum value:\", max(tab_taxa1$Abundance), \"Corresponding ID:\", tab_taxa1$ID[which.max(tab_taxa1$Abundance)], \"Corresponding Genus:\", tab_taxa1$Genus[which.max(tab_taxa1$Abundance)], \"\\n\")\n",
        "\n",
        "# Find the maximum abundance and corresponding OTU for each ID\n",
        "library(dplyr)\n",
        "\n",
        "max_abundance <- aggregate(Abundance ~ ID, data = tab_taxa1, FUN = max)\n",
        "max_otu <- aggregate(OTU ~ ID, data = tab_taxa1, FUN = function(x) x[which.max(tab_taxa1$Abundance)])\n",
        "\n",
        "abs_abundance <- tab_taxa1 %>%\n",
        "  group_by(ID) %>%\n",
        "  slice_max(Abundance) %>%\n",
        "  ungroup()\n",
        "abs_abundance <- abs_abundance %>% select(ID, OTU_Genus, Abundance)\n",
        "abs_abundance <- abs_abundance %>% arrange(desc(Abundance))\n",
        "\n",
        "print(abs_abundance)"
      ],
      "metadata": {
        "id": "bT9R5XRpshLM"
      },
      "execution_count": null,
      "outputs": []
    },
    {
      "cell_type": "markdown",
      "source": [
        "##<font color='red'>Q4:</font>"
      ],
      "metadata": {
        "id": "nh-omaxNsldp"
      }
    },
    {
      "cell_type": "code",
      "source": [
        "#First we create \"tab_taxa1\" again but for the \"Family\" level\n",
        "ra_tab <- decostand(data[-c(1)], method=\"total\", MARGIN=1)\n",
        "ra_tab$ID <- rownames(ra_tab)\n",
        "melt_tab <- melt(ra_tab)\n",
        "colnames(melt_tab) = c(\"ID\",\"OTU\",\"RelativeAbundance\")\n",
        "tab_taxa <- merge(x =melt_tab , y = taxonomy , by.x  = \"OTU\" , by.y = \"OTU\")\n",
        "agg_tab <- aggregate(tab_taxa[,3], list(tab_taxa$Family), sum)\n",
        "colnames(agg_tab) <- c(\"Family\",\"SumAbundance\")\n",
        "agg_tab$Family1 <- agg_tab$Family\n",
        "agg_tab$Family1[agg_tab$SumAbundance <= 20] <- \"Other\"\n",
        "tab_taxa1 <- merge(tab_taxa, agg_tab ,by =\"Family\")\n",
        "tab_taxa1$Family1 <- reorder(tab_taxa1$Family1 , tab_taxa1$SumAbundance)\n",
        "tab_taxa1 <- merge(x =tab_taxa1  , y = metadata, by = \"ID\")\n",
        "tab_taxa1$Year = as.factor(tab_taxa1$Year)"
      ],
      "metadata": {
        "id": "QdiwMlMXsnmp"
      },
      "execution_count": null,
      "outputs": []
    },
    {
      "cell_type": "code",
      "source": [
        "#Next, we can create the plot\n",
        "p5 <- ggplot() + geom_bar(data=tab_taxa1, aes(x=Infection_Stage, y=RelativeAbundance, fill=Family1), stat=\"identity\", position=\"fill\") + scale_color_brewer(palette=\"Dark2\")+\n",
        "  theme_bw() + facet_wrap(.~Year, scales=\"free_x\", nrow=1, strip.position = \"bottom\") +\n",
        "  theme(text = element_text(size = 19 , colour = \"black\"),\n",
        "                       axis.text = element_text(size = 19 , colour = \"black\" ),\n",
        "                       axis.title = element_text(size = 19 , colour = \"black\" ),\n",
        "                       strip.text = element_text(size = 19 , colour = \"black\" ),\n",
        "                       axis.text.x = element_text(angle = 60, hjust = 1 , colour=\"black\", size = 19),\n",
        "                       panel.grid.major = element_blank(),\n",
        "                       panel.grid.minor = element_blank(),\n",
        "                       axis.line = element_line(colour = \"black\") ,\n",
        "                       legend.title = element_text(color = \"black\", size = 19),\n",
        "                       legend.text = element_text(color = \"black\", size = 19) ,\n",
        "                       strip.background = element_rect(colour = \"black\", fill = \"white\"))\n",
        "\n",
        "options(repr.plot.width=15, repr.plot.height=8)\n",
        "p5"
      ],
      "metadata": {
        "id": "BclP6vJsspxc"
      },
      "execution_count": null,
      "outputs": []
    },
    {
      "cell_type": "code",
      "source": [
        "anova <- aov(RelativeAbundance ~ Infection_Stage, data = tab_taxa1)\n",
        "summary(anova)\n",
        "print(paste(\"2014:\", TukeyHSD(aov(RelativeAbundance ~ Infection_Stage, data = subset(tab_taxa1, Year %in% c(\"2014\"))))))\n",
        "print(paste(\"2015:\", TukeyHSD(aov(RelativeAbundance ~ Infection_Stage, data = subset(tab_taxa1, Year %in% c(\"2015\"))))))\n",
        "print(paste(\"2016:\", TukeyHSD(aov(RelativeAbundance ~ Infection_Stage, data = subset(tab_taxa1, Year %in% c(\"2016\"))))))\n",
        "print(paste(\"2017:\", TukeyHSD(aov(RelativeAbundance ~ Infection_Stage, data = subset(tab_taxa1, Year %in% c(\"2017\"))))))\n",
        "print(paste(\"2018:\", TukeyHSD(aov(RelativeAbundance ~ Infection_Stage, data = subset(tab_taxa1, Year %in% c(\"2018\"))))))\n",
        "print(paste(\"2019:\", TukeyHSD(aov(RelativeAbundance ~ Infection_Stage, data = subset(tab_taxa1, Year %in% c(\"2019\"))))))"
      ],
      "metadata": {
        "id": "Kx5TbKkbsr-l"
      },
      "execution_count": null,
      "outputs": []
    },
    {
      "cell_type": "markdown",
      "source": [
        "##<font color='red'>Q5:</font>"
      ],
      "metadata": {
        "id": "IKoOlGozsupP"
      }
    },
    {
      "cell_type": "code",
      "source": [
        "plot_alpha_diversity_infection <- ggplot(alpha_div, aes(x=Infection_Stage, y=ShannonDiversity)) + geom_boxplot(fill=\"#009E73\", color=\"black\", outlier.shape=NA, width=0.2, lwd=0.4, linetype=\"dashed\", position=position_dodge(width=6)) +\n",
        "    stat_boxplot(aes(ymin = ..lower.., ymax = ..upper..) ,fill='#009E73' ,outlier.shape=NA ,width=0.7 , lwd = 0.4) +\n",
        "    stat_boxplot(geom = \"errorbar\", aes(ymin = ..ymax..), width=0.3) +\n",
        "    stat_boxplot(geom = \"errorbar\", aes(ymax = ..ymin..) ,width=0.3) +\n",
        "    geom_jitter(alpha = 1 , color = \"black\" , position = position_jitter(width = 0.3) , size = 0.2) +\n",
        "    theme(axis.text.x = element_text(angle = 60, hjust = 1 , colour=\"black\", size = 14),\n",
        "          axis.text.y = element_text(angle=90, hjust=1 , size = 14 , colour=\"black\" ) ,\n",
        "          axis.title.y =  element_text(angle=90, size = 14) ,\n",
        "          axis.title.x = element_blank() ,\n",
        "          text = element_text(size = 40),\n",
        "          panel.background = element_rect(colour = \"black\" , fill = \"NA\"),\n",
        "          panel.grid.major = element_blank(), panel.grid.minor = element_blank()) + ylim(0,6) #+\n",
        "    #stat_compare_means(aes(label=paste0(\"p = \", ..p.signif..)), method=\"wilcox.test\")\n",
        "\n",
        "options(repr.plot.width=8, repr.plot.height=10)\n",
        "plot_alpha_diversity_infection\n",
        "\n",
        "wilcox.test(ShannonDiversity ~ Infection_Stage, data = alpha_div)"
      ],
      "metadata": {
        "id": "wp8-yf5Ms0Iv"
      },
      "execution_count": null,
      "outputs": []
    },
    {
      "cell_type": "markdown",
      "source": [
        "##<font color='red'>Q6:</font>"
      ],
      "metadata": {
        "id": "tRa-vnXQs2YB"
      }
    },
    {
      "cell_type": "code",
      "source": [
        "metadata$Comp_Inf <- paste(metadata$Compartment, metadata$Infection_Stage, sep=\"_\")\n",
        "\n",
        "pca_bray_rarefied.tab <- dudi.pco(vegdist(data[-c(1)], method = \"bray\", binary=FALSE), scannf=F)\n",
        "metadata$Comp_Inf <- as.factor(metadata$Comp_Inf)\n",
        "options(repr.plot.width=8, repr.plot.height=7)\n",
        "s.class(pca_bray_rarefied.tab$li, metadata$Comp_Inf, xax=1, yax=2, cpoint=3, grid=F, addaxes=T, cellipse=1, cstar=0, axesell=0, col = c(\"blue\",\"red\", \"black\", \"purple\"), clabel = 2, sub=\"Bray-Curtis\")\n",
        "\n",
        "aov <- adonis2(data[-c(1)] ~ metadata$Comp_Inf, permutations = 99, method = \"bray\")\n",
        "aov"
      ],
      "metadata": {
        "id": "2KbnMkXLs4vy"
      },
      "execution_count": null,
      "outputs": []
    },
    {
      "cell_type": "markdown",
      "source": [
        "##<font color='red'>Q7:</font>"
      ],
      "metadata": {
        "id": "kVD0Awz_s-P4"
      }
    },
    {
      "cell_type": "code",
      "source": [
        "#Hint: first subset the otu table of infected samples\n",
        "metadata_infected_samples <- subset(metadata , metadata$Infection_Stage==\"Infected\")\n",
        "data1 <- data[rownames(data)%in% rownames(metadata_infected_samples), ]\n",
        "data_net <- data.frame(t(data1[-c(1)]))"
      ],
      "metadata": {
        "id": "--B0Fzqjs_fQ"
      },
      "execution_count": null,
      "outputs": []
    },
    {
      "cell_type": "code",
      "source": [
        "data_net$OTU <- rownames(data_net)\n",
        "data_net <- merge(taxonomy[c(\"OTU\" ,\"Genus\")] , data_net , by = \"OTU\")\n",
        "data_net$OTU_Genus <- paste(data_net$OTU , data_net$Genus , sep = \"_\")\n",
        "rownames(data_net) <- data_net$OTU_Genus\n",
        "data_net <- subset(data_net , select = -c(OTU , Genus , OTU_Genus))\n",
        "data_net <- data_net[rowSums(data_net)>=2000 , ]"
      ],
      "metadata": {
        "id": "OqfspC3dtBDF"
      },
      "execution_count": null,
      "outputs": []
    },
    {
      "cell_type": "code",
      "source": [
        "sparcc.data <- sparcc(t(data_net))\n",
        "colnames(sparcc.data$Cor) <- rownames(data_net)\n",
        "sparcc.graph <- abs(sparcc.data$Cor) >= 0.3\n",
        "diag(sparcc.graph) <- 0\n",
        "#sparcc.graph = sparcc.graph[rowSums(sparcc.graph)>=4,]\n",
        "#sparcc.graph = sparcc.graph[,(colnames(sparcc.graph) %in% rownames(sparcc.graph))]\n",
        "library(Matrix)\n",
        "sparcc.graph <- Matrix(sparcc.graph, sparse=TRUE)\n",
        "ig.sparcc <- adj2igraph(sparcc.graph,vertex.attr = list(name = rownames(sparcc.graph), ff = 1:nrow(sparcc.graph)))"
      ],
      "metadata": {
        "id": "MkGo7aNFtCjp"
      },
      "execution_count": null,
      "outputs": []
    },
    {
      "cell_type": "code",
      "source": [
        "options(repr.plot.width=20, repr.plot.height=20)\n",
        "cor_values <- sparcc.data$Cor[which(E(ig.sparcc) != 0)]\n",
        "edge_colors <- ifelse(cor_values >= 0, \"orange\", \"gray\")\n",
        "plot(ig.sparcc, vertex.label = colnames(sparcc.graph), main = \"SparCC\", vertex.size = 3, edge.color = edge_colors, edge.width = 1, edge.curved=0.5)"
      ],
      "metadata": {
        "id": "-j5D-RIjtEcd"
      },
      "execution_count": null,
      "outputs": []
    },
    {
      "cell_type": "code",
      "source": [
        "library(igraph)\n",
        "closeness <- data.frame(closeness(ig.sparcc, mode=\"all\", weights=NA))\n",
        "betweenness <- data.frame(betweenness(ig.sparcc, directed=F, normalized=TRUE))\n",
        "degree <- data.frame(degree(ig.sparcc), mode=\"all\")\n",
        "net_analysis <- cbind(closeness, betweenness[1], degree)\n",
        "colnames(net_analysis) <- c(\"ClosenessCentrality\", \"BetweennessCentrality\", \"Degree\")"
      ],
      "metadata": {
        "id": "iba5GrTNtGo1"
      },
      "execution_count": null,
      "outputs": []
    },
    {
      "cell_type": "code",
      "source": [
        "taxonomy$OTU_Genus <- paste(taxonomy$OTU, taxonomy$Genus, sep=\"_\")\n",
        "net_analysis <- merge(net_analysis, taxonomy, by.x=\"row.names\", by.y=\"OTU_Genus\")\n",
        "colnames(net_analysis)[1] <- \"OTU_Genus\"\n",
        "net_analysis <- na.omit(net_analysis)\n",
        "net_analysis <- net_analysis[!(net_analysis$ClosenessCentrality==1 & net_analysis$BetweennessCentrality==0), ]"
      ],
      "metadata": {
        "id": "zaeKAvlctITE"
      },
      "execution_count": null,
      "outputs": []
    },
    {
      "cell_type": "code",
      "source": [
        "options(repr.plot.width=10, repr.plot.height=10)\n",
        "dd.sparcc <- degree.distribution(ig.sparcc)\n",
        "plot(0:(length(dd.sparcc)-1), dd.sparcc, type=\"b\",\n",
        "      ylab=\"Frequency\", xlab=\"Degree\", main=\"Degree Distribution\", col=\"forestgreen\")\n",
        "legend(\"topright\", legend=\"Degree Distribution\", col=\"forestgreen\", pch=1, lty=1)"
      ],
      "metadata": {
        "id": "qEbr53AXtJ8y"
      },
      "execution_count": null,
      "outputs": []
    },
    {
      "cell_type": "code",
      "source": [
        "n <- 10\n",
        "library(ggrepel)\n",
        "top5_BC <- net_analysis[net_analysis$BetweennessCentrality > quantile(net_analysis$BetweennessCentrality, prob=1-n/100),]$OTU_Genus\n",
        "top5_BC_min <- min(net_analysis[net_analysis$BetweennessCentrality > quantile(net_analysis$BetweennessCentrality, prob=1-n/100),]$BetweennessCentrality)\n",
        "top5_CC <- net_analysis[net_analysis$ClosenessCentrality > quantile(net_analysis$ClosenessCentrality, prob=1-n/100),]$OTU_Genus\n",
        "top5_CC_min <- min(net_analysis[net_analysis$ClosenessCentrality > quantile(net_analysis$ClosenessCentrality, prob=1-n/100),]$ClosenessCentrality)"
      ],
      "metadata": {
        "id": "Drqt65fHtLaC"
      },
      "execution_count": null,
      "outputs": []
    },
    {
      "cell_type": "code",
      "source": [
        "p5_Intersection <- top5_BC[which((top5_BC %in% top5_CC) == TRUE)]\n",
        "\n",
        "p5_IntersectionH = p5_Intersection\n",
        "length(p5_IntersectionH)"
      ],
      "metadata": {
        "id": "kJevmcK3tPQe"
      },
      "execution_count": null,
      "outputs": []
    },
    {
      "cell_type": "code",
      "source": [
        "core = as.data.frame(p5_IntersectionH)\n",
        "core$core = \"Yes\"\n",
        "colnames(core) = c(\"Species\", \"HUB\")\n",
        "select = subset(net_analysis, !(OTU_Genus %in% core$Species))\n",
        "select$core = \"No\"\n",
        "select1 = select[,c(\"OTU_Genus\", \"core\")]\n",
        "colnames(select1) = c(\"Species\", \"HUB\")\n",
        "newnet_analysis = rbind(select1, core)\n",
        "newnet_analysisH = merge(x=net_analysis, y=newnet_analysis, by.x=\"OTU_Genus\", by.y=\"Species\")\n",
        "newnet_analysisH <- newnet_analysisH[complete.cases(newnet_analysisH),]\n",
        "newnet_analysisH = newnet_analysisH[newnet_analysisH$Degree > 10, ]\n",
        "head(newnet_analysisH)"
      ],
      "metadata": {
        "id": "sRUBUCGxtQyk"
      },
      "execution_count": null,
      "outputs": []
    },
    {
      "cell_type": "code",
      "source": [
        "expression <- ggplot(newnet_analysisH, aes(x=ClosenessCentrality, y=BetweennessCentrality, label=Genus))\n",
        "z <- expression + geom_point(aes(colour=Degree, size = Degree) ,stat= \"identity\",position=\"identity\",alpha= 0.4 ) +\n",
        "    scale_colour_gradient(low = \"blue\", high = \"red\") +\n",
        "    labs(title = \"Hub analysis\") +\n",
        "    scale_size_area(max_size = 10)+\n",
        "    geom_vline(xintercept = top5_CC_min, linetype=\"dashed\") +\n",
        "    geom_hline(yintercept = top5_BC_min, linetype= \"dashed\") +\n",
        "    scale_x_continuous(\"Closeness Centrality\") +\n",
        "    scale_y_continuous(\"Betweenness Centrality\") +\n",
        "    scale_shape_manual(values=c(21, 19)) +\n",
        "    geom_text_repel(data=subset(newnet_analysisH, HUB==\"Yes\"),size = 7,\n",
        "                    box.padding   = 1.5,\n",
        "                    point.padding = 0.5,\n",
        "                    force         = 100,\n",
        "                    segment.size  = 0.4,\n",
        "                    segment.color = \"darkgreen\") +\n",
        "    theme_bw()+theme(panel.grid.major = element_blank(), panel.grid.minor = element_blank()) +\n",
        "    theme(text = element_text(size=15))\n",
        "    options(repr.plot.width=10, repr.plot.height=7)\n",
        "z"
      ],
      "metadata": {
        "id": "5HnymYbstSdU"
      },
      "execution_count": null,
      "outputs": []
    }
  ]
}