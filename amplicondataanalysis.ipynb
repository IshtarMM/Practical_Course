{
  "cells": [
    {
      "cell_type": "markdown",
      "source": [
        "<table class=\"tfo-notebook-buttons\" align=\"left\">\n",
        "\n",
        "  <td>\n",
        "    <a target=\"_blank\" href=\"https://colab.research.google.com/drive/1NMHorcfpS2A4KvUUIL2_1vsEjqLiRerZ#scrollTo=3jgKv2lqtyXY\"><img src=\"https://www.tensorflow.org/images/colab_logo_32px.png\" />Run in Google Colab</a>\n",
        "  </td>\n",
        "  <td>\n",
        "    <a target=\"_blank\" href=\"https://github.com/IshtarMM/Practical_Course\"><img src=\"https://www.tensorflow.org/images/GitHub-Mark-32px.png\" />View sources on GitHub</a>\n",
        "  </td>\n",
        "  <td>\n",
        "    <a href=\"https://downgit.github.io/#/home?url=https://github.com/IshtarMM/Practical_Course/blob/master/dataanalysis-3.ipynb\"><img src=\"https://www.tensorflow.org/images/download_logo_32px.png\" />Download notebook</a>\n",
        "  </td>\n",
        "   <td>\n",
        "    <a target=\"_blank\" href=\"https://uni-tuebingen.de/fakultaeten/mathematisch-naturwissenschaftliche-fakultaet/fachbereiche/zentren/zentrum-fuer-molekularbiologie-der-pflanzen/research/mikrobielle-interaktionen/gruppe/\"><img src=\"https://uni-tuebingen.de/fileadmin/_processed_/f/a/csm_IMG_4015_35e7b6c800.jpg\"width=\"30\" height=\"30\"/> Kemen lab</a>\n",
        "  </td>\n",
        "</table>"
      ],
      "metadata": {
        "id": "3jgKv2lqtyXY"
      }
    },
    {
      "cell_type": "markdown",
      "source": [
        "\n",
        "\n",
        "#### **>>**In this notebook we are going to do some analysis of amplicon sequencing data. \n",
        "#### Look at the following picture to get some idea of the steps.\n",
        "\n",
        "**A**:  Sequencing and preprocessing \n",
        "\n",
        "**B**:  Generate OTU/ASV tables and taxonomy files\n",
        "\n",
        "**C**: Analysis: Diversity of microbes Association between microbes(networks), Prediction of different status and finding important microbes in prediction(machine learning).\n",
        "\n",
        "\n",
        "\n",
        "\n",
        "\n",
        "\n",
        "\n",
        "\n",
        "\n",
        "\n",
        "\n",
        "\n",
        "\n",
        "\n",
        "\n",
        "\n",
        "\n",
        "\n"
      ],
      "metadata": {
        "id": "z2tj9FynwIPZ"
      }
    },
    {
      "cell_type": "markdown",
      "source": [
        "\n",
        "\n",
        "\n",
        "<table class=\"tfo-notebook-buttons\" align=\"left\">\n",
        "\n",
        "  <td>\n",
        "    <a target=\"_blank\" href=\"https://github.com/IshtarMM/Practical_Course\"><img src=\"https://github.com/IshtarMM/Practical_Course/blob/master/Presentation1%20copy.png?raw=true\" /></a>\n",
        "  </td>\n",
        "</table>"
      ],
      "metadata": {
        "id": "6mhasi7f5wGO"
      }
    },
    {
      "cell_type": "markdown",
      "source": [
        "###Check to see if R scripts are working (if not run the next command)"
      ],
      "metadata": {
        "id": "yUO4id7Gh5YX"
      }
    },
    {
      "cell_type": "code",
      "source": [
        "print(\"HelloWorld\", quote=FALSE)\n",
        "getwd()"
      ],
      "metadata": {
        "id": "j28pdcDSib7q"
      },
      "execution_count": null,
      "outputs": []
    },
    {
      "cell_type": "markdown",
      "metadata": {
        "id": "8HMRlvYk9orL"
      },
      "source": [
        "###Setup R in colab\n"
      ]
    },
    {
      "cell_type": "markdown",
      "source": [
        "####Run the following commands once (~5 mins). It will replace your python2 jupyter kernel by R kernel.\n",
        "\n",
        "ref (https://colab.research.google.com/drive/1_MmJuotDr9izNwivjgfD1J_bd4OvTFLq#scrollTo=WzpJq3ZrrDS3)"
      ],
      "metadata": {
        "id": "vsNGJBx6hq9e"
      }
    },
    {
      "cell_type": "code",
      "source": [
        "!apt-get install libssl-dev > /dev/null\n",
        "!wget https://repo.continuum.io/miniconda/Miniconda3-latest-Linux-x86_64.sh\n",
        "!chmod +x ./Miniconda3-latest-Linux-x86_64.sh\n",
        "!./Miniconda3-latest-Linux-x86_64.sh -b -p /conda  > /dev/null 2>&1 \n",
        "!/conda/bin/conda install -c r r-rstan r-irkernel gxx_linux-64 -y -q > /dev/null 2>&1\n",
        "!/conda/bin/R -e \"IRkernel::installspec(name = 'python2', displayname = 'R', user = FALSE)\"  > /dev/null 2>&1\n",
        "!mkdir /root/.R/\n",
        "!echo \"CXX14FLAGS=-O3 -mtune=native -march=native -Wno-ignored-attributes -Wno-deprecated-declarations\" > /root/.R/Makevars\n",
        "import os\n",
        "os._exit(00)"
      ],
      "metadata": {
        "id": "fNqMcQV3hnKi"
      },
      "execution_count": null,
      "outputs": []
    },
    {
      "cell_type": "markdown",
      "metadata": {
        "id": "TC5vd4Xw9sk9"
      },
      "source": [
        "\n",
        "###Install required packages (might takes 5-10 min)"
      ]
    },
    {
      "cell_type": "code",
      "execution_count": null,
      "metadata": {
        "id": "Sj-gM55e9nH0"
      },
      "outputs": [],
      "source": [
        "install.packages(c(\"vegan\" , \"ggplot\"))\n",
        "install.packages(\"reshape2\")\n",
        "install.packages(c(\"plotly\"))\n",
        "install.packages('IRdisplay')\n",
        "install.packages(\"ggpubr\")\n",
        "install.packages(\"ade4\")\n",
        "install.packages(\"ggrepel\")\n",
        "install.packages(\"remotes\")\n",
        "install.packages(\"igraph\")\n",
        "install.packages(\"stats\")\n",
        "remotes::install_github(\"zdk123/SpiecEasi\")\n",
        "\n"
      ]
    },
    {
      "cell_type": "code",
      "execution_count": null,
      "metadata": {
        "id": "eMg_ThXt9mfY"
      },
      "outputs": [],
      "source": [
        "#Get the list of the packages installed\n",
        ".libPaths('/usr/local/lib/R/site-library/')\n",
        "library(vegan)\n",
        "library(ggplot2)\n",
        "library(reshape2)\n",
        "library(plotly)\n",
        "library(IRdisplay)\n",
        "library(ggpubr)\n",
        "library(ade4)\n",
        "library(SpiecEasi)\n",
        "#library(igraph)\n",
        "library(stats)"
      ]
    },
    {
      "cell_type": "code",
      "source": [
        "#skip this command\n",
        "\"detach_package <- function(abcpkg, character.only = FALSE)\n",
        "{\n",
        "  if(!character.only)\n",
        "  {\n",
        "    abcpkg <- deparse(substitute(abcpkg))\n",
        "  }\n",
        "  search_item <- paste(\"package\", abcpkg, sep = \":\")\n",
        "  while(search_item %in% search())\n",
        "  {\n",
        "    detach(search_item, unload = TRUE, character.only = TRUE)\n",
        "  }\n",
        "}\n",
        "#detach_package(igraph)"
      ],
      "metadata": {
        "id": "Z9mBZt3gKDTv"
      },
      "execution_count": null,
      "outputs": []
    },
    {
      "cell_type": "markdown",
      "source": [
        "###Which packages are we using and what are they good for?\n",
        "\n",
        "Package ‘**vegan**’\n",
        "\n",
        "**Community Ecology Package**\n",
        "\n",
        "Description: Ordination methods, diversity analysis and other functions for community and vegetation ecologists.\n",
        "The veganpackage provides tools for descriptive community ecology. It has most basic functions of diversityanalysis, community ordination and dissimilarity analysis. Most of its multivariate tools can be used for other datatypes as well.\n",
        "\n",
        "Package ‘**ade4**’\n",
        "\n",
        "**Analysis of Ecological Data: Exploratory and Euclidean Methods in Environmental Sciences**\n",
        "\n",
        "Description: Tools for multivariate data analysis. Several methods are provided for the analysis (i.e., ordination) of one-table (e.g., principal component analysis, correspondence analysis), two-table (e.g., coinertia analysis, redundancy analysis), three-table (e.g., RLQ analysis) and K-table (e.g., STATIS, multiple coinertia analysis). \n",
        "\n",
        "Package ‘**SpiecEasi**’\n",
        "\n",
        "**Sparse InversE Covariance estimation for Ecological Association and Statistical Inference**\n",
        "\n",
        "Description: Useful to anybody who wants to infer graphical models for all sorts of compositional data, though primarily intended for microbiome relative abundance data (generated from 16S amplicon sequence data). It also includes a generator for [overdispersed, zero inflated] multivariate, correlated count data.\n",
        "\n",
        "Package ‘**ggplot2**’\n",
        "\n",
        "**Create Elegant Data Visualisations Using the Grammar of Graphics**\n",
        "\n",
        "Description: A system for 'declaratively' creating graphics, based on \"The Grammar of Graphics\". You provide the data, tell 'ggplot2' how to map variables to aesthetics, what graphical primitives to use, and it takes care of the details.\n",
        "\n",
        "Package ‘**ggpubr**’\n",
        "\n",
        "**'ggplot2' Based Publication Ready Plots**\n",
        "\n",
        "Description: The 'ggplot2' package is excellent and flexible for elegant data visualization in R. However the default generated plots requires some formatting before we can send them for publication. Furthermore, to customize a 'ggplot', the syntax is opaque and this raises the level of difficulty for researchers with no advanced R programming skills. 'ggpubr' provides some easy-to-use functions for creating and customizing 'ggplot2'- based publication ready plots.\n",
        "\n",
        "Package ‘**igraph**’\n",
        "\n",
        "**Network Analysis and Visualization**\n",
        "\n",
        "Description: Routines for simple graphs and network analysis. It can handle large graphs very well and provides functions for generating random and regular graphs, graph visualization, centrality methods and much more.\n",
        "\n",
        "Package ‘**reshape2**’\n",
        "\n",
        "**Flexibly Reshape Data**\n",
        "\n",
        "Description: Flexibly restructure and aggregate data using just two functions: melt and 'dcast' (or 'acast').\n",
        "\n",
        "Package ‘**plotly**’\n",
        "\n",
        "**Create Interactive Web Graphics via 'plotly.js'**\n",
        "\n",
        "Description: Create interactive web graphics from 'ggplot2' graphs and/or a custom interface to the (MIT-licensed) JavaScript library 'plotly.js' inspired by the grammar of graphics.\n",
        "\n",
        "Package ‘**IRdisplay**’\n",
        "\n",
        "**'Jupyter' Display Machinery**\n",
        "\n",
        "Description: An interface to the rich display capabilities of 'Jupyter' front-ends (e.g. 'Jupyter Notebook')\n"
      ],
      "metadata": {
        "id": "KHN9DsCVJD4A"
      }
    },
    {
      "cell_type": "markdown",
      "metadata": {
        "id": "09nsss_EL5fK"
      },
      "source": [
        "##Load the dataset from github"
      ]
    },
    {
      "cell_type": "code",
      "execution_count": null,
      "metadata": {
        "id": "-n8shbUG-37z"
      },
      "outputs": [],
      "source": [
        "shell_call <- function(command, ...) {\n",
        "  result <- system(command, intern = TRUE, ...)\n",
        "  cat(paste0(result, collapse = \"\\n\"))\n",
        "}\n",
        "\n",
        "shell_call(\"git clone https://github.com/IshtarMM/Practical_Course\")\n",
        "\n"
      ]
    },
    {
      "cell_type": "code",
      "execution_count": null,
      "metadata": {
        "id": "u7t-wq_MLSU5"
      },
      "outputs": [],
      "source": [
        "#unlink(\"Practical_Course\", recursive = TRUE)\n",
        "load(\"Practical_Course/files.RData\")\n",
        "colnames(metadata) = c(\"ID\",\t\"Compartment\"\t,\"Year\",\t\"Season\",\t\"Infection_Stage\")\n",
        "ls()"
      ]
    },
    {
      "cell_type": "markdown",
      "source": [
        "##Where does the dataset come from and what does it contain?\n",
        "\n",
        "\n",
        "--> samples were taken from *Arabidopsis thaliana* plants in the wild.\n",
        "<table>\n",
        "  <tr>\n",
        "    <td> <img src=\"https://github.com/IshtarMM/Practical_Course/blob/master/pic/IMGAra1.jpg?raw=true\" height=300 /> </td>\n",
        "    <td> <img src=\"https://github.com/IshtarMM/Practical_Course/blob/master/pic/Picture%202.png?raw=true\" height=400 /> </td>\n",
        "  </tr>\n",
        "</table>\n",
        "\n",
        "Left: *A. thaliana* plants growing on a natural site.\n",
        "\n",
        "Right: Leaf surface of *A. thaliana* plant with a fungus and bacteria\n",
        "\n",
        "\n",
        "Samples were taken over several years and seasons and microbes on the surface of the plant leaves (epiphytes) and microbes inside the same plant leaves were analysed (endophytes).\n",
        "\n",
        "<img src=\"https://github.com/IshtarMM/Practical_Course/blob/master/pic/pic4.jpg?raw=true\" height=400 />\n",
        "\n",
        "Plants were further phenotypically screened for infection by the protist pathogen *Albugo laibachii*, the causal agent of white blister rust:\n",
        "\n",
        "<img src=\"https://github.com/IshtarMM/Practical_Course/blob/master/pic/pic5.png?raw=true\" height=400 />\n",
        "\n"
      ],
      "metadata": {
        "id": "MfyhEleSS0d2"
      }
    },
    {
      "cell_type": "markdown",
      "metadata": {
        "id": "SVJT74wnW7j0"
      },
      "source": [
        "## Look at to the struture of dataset"
      ]
    },
    {
      "cell_type": "code",
      "execution_count": null,
      "metadata": {
        "colab": {
          "base_uri": "https://localhost:8080/",
          "height": 306
        },
        "id": "X5CsN68PW1XI",
        "outputId": "7d3e2204-906e-47cf-b8cf-90e6e6dba30e"
      },
      "outputs": [
        {
          "output_type": "display_data",
          "data": {
            "text/html": [
              "<table class=\"dataframe\">\n",
              "<caption>A data.frame: 6 × 1912</caption>\n",
              "<thead>\n",
              "\t<tr><th></th><th scope=col>ID</th><th scope=col>Otu000002</th><th scope=col>Otu000003</th><th scope=col>Otu000004</th><th scope=col>Otu000005</th><th scope=col>Otu000006</th><th scope=col>Otu000007</th><th scope=col>Otu000008</th><th scope=col>Otu000009</th><th scope=col>Otu000010</th><th scope=col>⋯</th><th scope=col>Otu002106</th><th scope=col>Otu002107</th><th scope=col>Otu002108</th><th scope=col>Otu002109</th><th scope=col>Otu002110</th><th scope=col>Otu002111</th><th scope=col>Otu002112</th><th scope=col>Otu002113</th><th scope=col>Otu002114</th><th scope=col>Otu002115</th></tr>\n",
              "\t<tr><th></th><th scope=col>&lt;chr&gt;</th><th scope=col>&lt;int&gt;</th><th scope=col>&lt;int&gt;</th><th scope=col>&lt;int&gt;</th><th scope=col>&lt;int&gt;</th><th scope=col>&lt;int&gt;</th><th scope=col>&lt;int&gt;</th><th scope=col>&lt;int&gt;</th><th scope=col>&lt;int&gt;</th><th scope=col>&lt;int&gt;</th><th scope=col>⋯</th><th scope=col>&lt;int&gt;</th><th scope=col>&lt;int&gt;</th><th scope=col>&lt;int&gt;</th><th scope=col>&lt;int&gt;</th><th scope=col>&lt;int&gt;</th><th scope=col>&lt;int&gt;</th><th scope=col>&lt;int&gt;</th><th scope=col>&lt;int&gt;</th><th scope=col>&lt;int&gt;</th><th scope=col>&lt;int&gt;</th></tr>\n",
              "</thead>\n",
              "<tbody>\n",
              "\t<tr><th scope=row>S324</th><td>S324</td><td>  879</td><td>1632</td><td>  22</td><td>   5</td><td> 20</td><td>    1</td><td>    3</td><td> 678</td><td>546</td><td>⋯</td><td> 0</td><td>0</td><td>0</td><td>3</td><td>0</td><td>0</td><td>0</td><td>0</td><td> 0</td><td>0</td></tr>\n",
              "\t<tr><th scope=row>S71</th><td>S71 </td><td> 1948</td><td>3020</td><td> 586</td><td>  22</td><td> 12</td><td>19670</td><td> 8652</td><td>1011</td><td> 46</td><td>⋯</td><td>18</td><td>0</td><td>0</td><td>0</td><td>0</td><td>0</td><td>0</td><td>0</td><td> 0</td><td>0</td></tr>\n",
              "\t<tr><th scope=row>S634</th><td>S634</td><td> 2495</td><td> 806</td><td> 493</td><td> 210</td><td>154</td><td>    0</td><td>    8</td><td>1457</td><td>307</td><td>⋯</td><td> 2</td><td>5</td><td>5</td><td>2</td><td>0</td><td>9</td><td>0</td><td>1</td><td> 0</td><td>0</td></tr>\n",
              "\t<tr><th scope=row>S389</th><td>S389</td><td>18878</td><td> 968</td><td>1091</td><td>1157</td><td>260</td><td>    0</td><td>19326</td><td> 378</td><td>294</td><td>⋯</td><td> 0</td><td>0</td><td>0</td><td>0</td><td>0</td><td>0</td><td>0</td><td>0</td><td> 0</td><td>0</td></tr>\n",
              "\t<tr><th scope=row>S244</th><td>S244</td><td> 1417</td><td> 538</td><td>  71</td><td>  32</td><td>  0</td><td>    1</td><td>    0</td><td>  19</td><td> 59</td><td>⋯</td><td> 0</td><td>0</td><td>0</td><td>2</td><td>0</td><td>0</td><td>0</td><td>0</td><td> 1</td><td>0</td></tr>\n",
              "\t<tr><th scope=row>S309</th><td>S309</td><td>  229</td><td>1046</td><td>  51</td><td>  75</td><td> 39</td><td>    0</td><td>    0</td><td>  71</td><td> 90</td><td>⋯</td><td> 0</td><td>0</td><td>0</td><td>0</td><td>0</td><td>0</td><td>0</td><td>5</td><td>18</td><td>0</td></tr>\n",
              "</tbody>\n",
              "</table>\n"
            ],
            "text/markdown": "\nA data.frame: 6 × 1912\n\n| <!--/--> | ID &lt;chr&gt; | Otu000002 &lt;int&gt; | Otu000003 &lt;int&gt; | Otu000004 &lt;int&gt; | Otu000005 &lt;int&gt; | Otu000006 &lt;int&gt; | Otu000007 &lt;int&gt; | Otu000008 &lt;int&gt; | Otu000009 &lt;int&gt; | Otu000010 &lt;int&gt; | ⋯ ⋯ | Otu002106 &lt;int&gt; | Otu002107 &lt;int&gt; | Otu002108 &lt;int&gt; | Otu002109 &lt;int&gt; | Otu002110 &lt;int&gt; | Otu002111 &lt;int&gt; | Otu002112 &lt;int&gt; | Otu002113 &lt;int&gt; | Otu002114 &lt;int&gt; | Otu002115 &lt;int&gt; |\n|---|---|---|---|---|---|---|---|---|---|---|---|---|---|---|---|---|---|---|---|---|---|\n| S324 | S324 |   879 | 1632 |   22 |    5 |  20 |     1 |     3 |  678 | 546 | ⋯ |  0 | 0 | 0 | 3 | 0 | 0 | 0 | 0 |  0 | 0 |\n| S71 | S71  |  1948 | 3020 |  586 |   22 |  12 | 19670 |  8652 | 1011 |  46 | ⋯ | 18 | 0 | 0 | 0 | 0 | 0 | 0 | 0 |  0 | 0 |\n| S634 | S634 |  2495 |  806 |  493 |  210 | 154 |     0 |     8 | 1457 | 307 | ⋯ |  2 | 5 | 5 | 2 | 0 | 9 | 0 | 1 |  0 | 0 |\n| S389 | S389 | 18878 |  968 | 1091 | 1157 | 260 |     0 | 19326 |  378 | 294 | ⋯ |  0 | 0 | 0 | 0 | 0 | 0 | 0 | 0 |  0 | 0 |\n| S244 | S244 |  1417 |  538 |   71 |   32 |   0 |     1 |     0 |   19 |  59 | ⋯ |  0 | 0 | 0 | 2 | 0 | 0 | 0 | 0 |  1 | 0 |\n| S309 | S309 |   229 | 1046 |   51 |   75 |  39 |     0 |     0 |   71 |  90 | ⋯ |  0 | 0 | 0 | 0 | 0 | 0 | 0 | 5 | 18 | 0 |\n\n",
            "text/latex": "A data.frame: 6 × 1912\n\\begin{tabular}{r|lllllllllllllllllllll}\n  & ID & Otu000002 & Otu000003 & Otu000004 & Otu000005 & Otu000006 & Otu000007 & Otu000008 & Otu000009 & Otu000010 & ⋯ & Otu002106 & Otu002107 & Otu002108 & Otu002109 & Otu002110 & Otu002111 & Otu002112 & Otu002113 & Otu002114 & Otu002115\\\\\n  & <chr> & <int> & <int> & <int> & <int> & <int> & <int> & <int> & <int> & <int> & ⋯ & <int> & <int> & <int> & <int> & <int> & <int> & <int> & <int> & <int> & <int>\\\\\n\\hline\n\tS324 & S324 &   879 & 1632 &   22 &    5 &  20 &     1 &     3 &  678 & 546 & ⋯ &  0 & 0 & 0 & 3 & 0 & 0 & 0 & 0 &  0 & 0\\\\\n\tS71 & S71  &  1948 & 3020 &  586 &   22 &  12 & 19670 &  8652 & 1011 &  46 & ⋯ & 18 & 0 & 0 & 0 & 0 & 0 & 0 & 0 &  0 & 0\\\\\n\tS634 & S634 &  2495 &  806 &  493 &  210 & 154 &     0 &     8 & 1457 & 307 & ⋯ &  2 & 5 & 5 & 2 & 0 & 9 & 0 & 1 &  0 & 0\\\\\n\tS389 & S389 & 18878 &  968 & 1091 & 1157 & 260 &     0 & 19326 &  378 & 294 & ⋯ &  0 & 0 & 0 & 0 & 0 & 0 & 0 & 0 &  0 & 0\\\\\n\tS244 & S244 &  1417 &  538 &   71 &   32 &   0 &     1 &     0 &   19 &  59 & ⋯ &  0 & 0 & 0 & 2 & 0 & 0 & 0 & 0 &  1 & 0\\\\\n\tS309 & S309 &   229 & 1046 &   51 &   75 &  39 &     0 &     0 &   71 &  90 & ⋯ &  0 & 0 & 0 & 0 & 0 & 0 & 0 & 5 & 18 & 0\\\\\n\\end{tabular}\n",
            "text/plain": [
              "     ID   Otu000002 Otu000003 Otu000004 Otu000005 Otu000006 Otu000007 Otu000008\n",
              "S324 S324   879     1632        22         5       20           1         3    \n",
              "S71  S71   1948     3020       586        22       12       19670      8652    \n",
              "S634 S634  2495      806       493       210      154           0         8    \n",
              "S389 S389 18878      968      1091      1157      260           0     19326    \n",
              "S244 S244  1417      538        71        32        0           1         0    \n",
              "S309 S309   229     1046        51        75       39           0         0    \n",
              "     Otu000009 Otu000010 ⋯ Otu002106 Otu002107 Otu002108 Otu002109 Otu002110\n",
              "S324  678      546       ⋯  0        0         0         3         0        \n",
              "S71  1011       46       ⋯ 18        0         0         0         0        \n",
              "S634 1457      307       ⋯  2        5         5         2         0        \n",
              "S389  378      294       ⋯  0        0         0         0         0        \n",
              "S244   19       59       ⋯  0        0         0         2         0        \n",
              "S309   71       90       ⋯  0        0         0         0         0        \n",
              "     Otu002111 Otu002112 Otu002113 Otu002114 Otu002115\n",
              "S324 0         0         0          0        0        \n",
              "S71  0         0         0          0        0        \n",
              "S634 9         0         1          0        0        \n",
              "S389 0         0         0          0        0        \n",
              "S244 0         0         0          1        0        \n",
              "S309 0         0         5         18        0        "
            ]
          },
          "metadata": {}
        }
      ],
      "source": [
        "head(data)"
      ]
    },
    {
      "cell_type": "code",
      "source": [
        "#how many sample and otus are in the data?\n",
        "print(paste(\"number of samples = \" , nrow(data)))\n",
        "print(paste(\"number of OTUS = \" , ncol(data)-1))"
      ],
      "metadata": {
        "id": "dAxLHYqx9ANi"
      },
      "execution_count": null,
      "outputs": []
    },
    {
      "cell_type": "code",
      "execution_count": null,
      "metadata": {
        "colab": {
          "base_uri": "https://localhost:8080/",
          "height": 96
        },
        "id": "8lBdnKGcW-wh",
        "outputId": "09aa4d0d-62b4-4ba7-d3c3-2e2271f88e7d"
      },
      "outputs": [
        {
          "output_type": "error",
          "ename": "ERROR",
          "evalue": "ignored",
          "traceback": [
            "Error in colnames(metadata) = c(\"ID\", \"Compartment\", \"Year\", \"Season\", : object 'metadata' not found\nTraceback:\n"
          ]
        }
      ],
      "source": [
        "#Information of samples\n",
        "colnames(metadata) = c(\"ID\",\t\"Compartment\"\t,\"Year\",\t\"Season\",\t\"Infection_Stage\")\n",
        "head(metadata)"
      ]
    },
    {
      "cell_type": "code",
      "source": [
        "#How many samples are colected in spring?\n",
        "table(metadata$Season)\n",
        "\n",
        "#How many of Fall samples are endophytic ?\n",
        "table(metadata$Season , metadata$Compartment)"
      ],
      "metadata": {
        "id": "KhcXk2-J9OeG"
      },
      "execution_count": null,
      "outputs": []
    },
    {
      "cell_type": "markdown",
      "source": [
        "##<font color='red'>Q1:</font>\n",
        "\n",
        "##How many infected sample are colected in spring of 2016?"
      ],
      "metadata": {
        "id": "Pu5-lOR59jt9"
      }
    },
    {
      "cell_type": "code",
      "source": [
        "#Type your answer here"
      ],
      "metadata": {
        "id": "4H28mXhr9uzr"
      },
      "execution_count": null,
      "outputs": []
    },
    {
      "cell_type": "code",
      "execution_count": null,
      "metadata": {
        "colab": {
          "base_uri": "https://localhost:8080/",
          "height": 324
        },
        "id": "y5inmHvqXEhN",
        "outputId": "27aab8f7-503a-409a-f3fd-d4293ce4a1b7"
      },
      "outputs": [
        {
          "output_type": "display_data",
          "data": {
            "text/html": [
              "<table class=\"dataframe\">\n",
              "<caption>A data.frame: 6 × 9</caption>\n",
              "<thead>\n",
              "\t<tr><th></th><th scope=col>OTU</th><th scope=col>Size</th><th scope=col>Taxonomy</th><th scope=col>Kingdom</th><th scope=col>Phylum</th><th scope=col>Class</th><th scope=col>Order</th><th scope=col>Family</th><th scope=col>Genus</th></tr>\n",
              "\t<tr><th></th><th scope=col>&lt;chr&gt;</th><th scope=col>&lt;int&gt;</th><th scope=col>&lt;chr&gt;</th><th scope=col>&lt;chr&gt;</th><th scope=col>&lt;chr&gt;</th><th scope=col>&lt;chr&gt;</th><th scope=col>&lt;chr&gt;</th><th scope=col>&lt;chr&gt;</th><th scope=col>&lt;chr&gt;</th></tr>\n",
              "</thead>\n",
              "<tbody>\n",
              "\t<tr><th scope=row>1</th><td>Otu000002</td><td>859665</td><td>Bacteria;Proteobacteria;Alphaproteobacteria;Sphingomonadales;Sphingomonadaceae;Sphingomonas;            </td><td>Bacteria</td><td>Proteobacteria</td><td>Alphaproteobacteria</td><td>Sphingomonadales</td><td>Sphingomonadaceae</td><td>Sphingomonas                  </td></tr>\n",
              "\t<tr><th scope=row>2</th><td>Otu000003</td><td>291965</td><td>Bacteria;Proteobacteria;Alphaproteobacteria;Rhizobiales;Beijerinckiaceae;Methylobacterium-Methylorubrum;</td><td>Bacteria</td><td>Proteobacteria</td><td>Alphaproteobacteria</td><td>Rhizobiales     </td><td>Beijerinckiaceae </td><td>Methylobacterium-Methylorubrum</td></tr>\n",
              "\t<tr><th scope=row>3</th><td>Otu000004</td><td>286108</td><td>Bacteria;Proteobacteria;Gammaproteobacteria;Burkholderiales;Oxalobacteraceae;Duganella;                 </td><td>Bacteria</td><td>Proteobacteria</td><td>Gammaproteobacteria</td><td>Burkholderiales </td><td>Oxalobacteraceae </td><td>Duganella                     </td></tr>\n",
              "\t<tr><th scope=row>4</th><td>Otu000005</td><td>275753</td><td>Bacteria;Proteobacteria;Gammaproteobacteria;Pseudomonadales;Pseudomonadaceae;Pseudomonas;               </td><td>Bacteria</td><td>Proteobacteria</td><td>Gammaproteobacteria</td><td>Pseudomonadales </td><td>Pseudomonadaceae </td><td>Pseudomonas                   </td></tr>\n",
              "\t<tr><th scope=row>5</th><td>Otu000006</td><td>272764</td><td>Bacteria;Proteobacteria;Gammaproteobacteria;Pseudomonadales;Pseudomonadaceae;Pseudomonas;               </td><td>Bacteria</td><td>Proteobacteria</td><td>Gammaproteobacteria</td><td>Pseudomonadales </td><td>Pseudomonadaceae </td><td>Pseudomonas                   </td></tr>\n",
              "\t<tr><th scope=row>6</th><td>Otu000007</td><td>264157</td><td>Bacteria;Proteobacteria;Alphaproteobacteria;Rickettsiales;Mitochondria;Mitochondria_ge;                 </td><td>Bacteria</td><td>Proteobacteria</td><td>Alphaproteobacteria</td><td>Rickettsiales   </td><td>Mitochondria     </td><td>Mitochondria_ge               </td></tr>\n",
              "</tbody>\n",
              "</table>\n"
            ],
            "text/markdown": "\nA data.frame: 6 × 9\n\n| <!--/--> | OTU &lt;chr&gt; | Size &lt;int&gt; | Taxonomy &lt;chr&gt; | Kingdom &lt;chr&gt; | Phylum &lt;chr&gt; | Class &lt;chr&gt; | Order &lt;chr&gt; | Family &lt;chr&gt; | Genus &lt;chr&gt; |\n|---|---|---|---|---|---|---|---|---|---|\n| 1 | Otu000002 | 859665 | Bacteria;Proteobacteria;Alphaproteobacteria;Sphingomonadales;Sphingomonadaceae;Sphingomonas;             | Bacteria | Proteobacteria | Alphaproteobacteria | Sphingomonadales | Sphingomonadaceae | Sphingomonas                   |\n| 2 | Otu000003 | 291965 | Bacteria;Proteobacteria;Alphaproteobacteria;Rhizobiales;Beijerinckiaceae;Methylobacterium-Methylorubrum; | Bacteria | Proteobacteria | Alphaproteobacteria | Rhizobiales      | Beijerinckiaceae  | Methylobacterium-Methylorubrum |\n| 3 | Otu000004 | 286108 | Bacteria;Proteobacteria;Gammaproteobacteria;Burkholderiales;Oxalobacteraceae;Duganella;                  | Bacteria | Proteobacteria | Gammaproteobacteria | Burkholderiales  | Oxalobacteraceae  | Duganella                      |\n| 4 | Otu000005 | 275753 | Bacteria;Proteobacteria;Gammaproteobacteria;Pseudomonadales;Pseudomonadaceae;Pseudomonas;                | Bacteria | Proteobacteria | Gammaproteobacteria | Pseudomonadales  | Pseudomonadaceae  | Pseudomonas                    |\n| 5 | Otu000006 | 272764 | Bacteria;Proteobacteria;Gammaproteobacteria;Pseudomonadales;Pseudomonadaceae;Pseudomonas;                | Bacteria | Proteobacteria | Gammaproteobacteria | Pseudomonadales  | Pseudomonadaceae  | Pseudomonas                    |\n| 6 | Otu000007 | 264157 | Bacteria;Proteobacteria;Alphaproteobacteria;Rickettsiales;Mitochondria;Mitochondria_ge;                  | Bacteria | Proteobacteria | Alphaproteobacteria | Rickettsiales    | Mitochondria      | Mitochondria_ge                |\n\n",
            "text/latex": "A data.frame: 6 × 9\n\\begin{tabular}{r|lllllllll}\n  & OTU & Size & Taxonomy & Kingdom & Phylum & Class & Order & Family & Genus\\\\\n  & <chr> & <int> & <chr> & <chr> & <chr> & <chr> & <chr> & <chr> & <chr>\\\\\n\\hline\n\t1 & Otu000002 & 859665 & Bacteria;Proteobacteria;Alphaproteobacteria;Sphingomonadales;Sphingomonadaceae;Sphingomonas;             & Bacteria & Proteobacteria & Alphaproteobacteria & Sphingomonadales & Sphingomonadaceae & Sphingomonas                  \\\\\n\t2 & Otu000003 & 291965 & Bacteria;Proteobacteria;Alphaproteobacteria;Rhizobiales;Beijerinckiaceae;Methylobacterium-Methylorubrum; & Bacteria & Proteobacteria & Alphaproteobacteria & Rhizobiales      & Beijerinckiaceae  & Methylobacterium-Methylorubrum\\\\\n\t3 & Otu000004 & 286108 & Bacteria;Proteobacteria;Gammaproteobacteria;Burkholderiales;Oxalobacteraceae;Duganella;                  & Bacteria & Proteobacteria & Gammaproteobacteria & Burkholderiales  & Oxalobacteraceae  & Duganella                     \\\\\n\t4 & Otu000005 & 275753 & Bacteria;Proteobacteria;Gammaproteobacteria;Pseudomonadales;Pseudomonadaceae;Pseudomonas;                & Bacteria & Proteobacteria & Gammaproteobacteria & Pseudomonadales  & Pseudomonadaceae  & Pseudomonas                   \\\\\n\t5 & Otu000006 & 272764 & Bacteria;Proteobacteria;Gammaproteobacteria;Pseudomonadales;Pseudomonadaceae;Pseudomonas;                & Bacteria & Proteobacteria & Gammaproteobacteria & Pseudomonadales  & Pseudomonadaceae  & Pseudomonas                   \\\\\n\t6 & Otu000007 & 264157 & Bacteria;Proteobacteria;Alphaproteobacteria;Rickettsiales;Mitochondria;Mitochondria\\_ge;                  & Bacteria & Proteobacteria & Alphaproteobacteria & Rickettsiales    & Mitochondria      & Mitochondria\\_ge               \\\\\n\\end{tabular}\n",
            "text/plain": [
              "  OTU       Size  \n",
              "1 Otu000002 859665\n",
              "2 Otu000003 291965\n",
              "3 Otu000004 286108\n",
              "4 Otu000005 275753\n",
              "5 Otu000006 272764\n",
              "6 Otu000007 264157\n",
              "  Taxonomy                                                                                                \n",
              "1 Bacteria;Proteobacteria;Alphaproteobacteria;Sphingomonadales;Sphingomonadaceae;Sphingomonas;            \n",
              "2 Bacteria;Proteobacteria;Alphaproteobacteria;Rhizobiales;Beijerinckiaceae;Methylobacterium-Methylorubrum;\n",
              "3 Bacteria;Proteobacteria;Gammaproteobacteria;Burkholderiales;Oxalobacteraceae;Duganella;                 \n",
              "4 Bacteria;Proteobacteria;Gammaproteobacteria;Pseudomonadales;Pseudomonadaceae;Pseudomonas;               \n",
              "5 Bacteria;Proteobacteria;Gammaproteobacteria;Pseudomonadales;Pseudomonadaceae;Pseudomonas;               \n",
              "6 Bacteria;Proteobacteria;Alphaproteobacteria;Rickettsiales;Mitochondria;Mitochondria_ge;                 \n",
              "  Kingdom  Phylum         Class               Order           \n",
              "1 Bacteria Proteobacteria Alphaproteobacteria Sphingomonadales\n",
              "2 Bacteria Proteobacteria Alphaproteobacteria Rhizobiales     \n",
              "3 Bacteria Proteobacteria Gammaproteobacteria Burkholderiales \n",
              "4 Bacteria Proteobacteria Gammaproteobacteria Pseudomonadales \n",
              "5 Bacteria Proteobacteria Gammaproteobacteria Pseudomonadales \n",
              "6 Bacteria Proteobacteria Alphaproteobacteria Rickettsiales   \n",
              "  Family            Genus                         \n",
              "1 Sphingomonadaceae Sphingomonas                  \n",
              "2 Beijerinckiaceae  Methylobacterium-Methylorubrum\n",
              "3 Oxalobacteraceae  Duganella                     \n",
              "4 Pseudomonadaceae  Pseudomonas                   \n",
              "5 Pseudomonadaceae  Pseudomonas                   \n",
              "6 Mitochondria      Mitochondria_ge               "
            ]
          },
          "metadata": {}
        }
      ],
      "source": [
        "#Lets see the taxonomy file (Size = number of reads of each otu in all the samples)\n",
        "head(taxonomy)"
      ]
    },
    {
      "cell_type": "markdown",
      "source": [
        "##Let’s plot the total number of reads per samples of each year from otu table:"
      ],
      "metadata": {
        "id": "pyV9DRjvA_Mu"
      }
    },
    {
      "cell_type": "code",
      "execution_count": null,
      "metadata": {
        "id": "fCzpGWxFXMLQ"
      },
      "outputs": [],
      "source": [
        "tab <- data[-c(1)]\n",
        "tab$ReadSumPerSample <- rowSums(tab)\n",
        "tab_sample <- merge(metadata[\"Year\"] , tab[\"ReadSumPerSample\"] , by = \"row.names\")\n",
        "agg_tab <- aggregate(tab_sample[,2], list(tab_sample$Year), sum) ## sum of relative abundance of different orders in all samples colnames(agg) = c(\"order1\" , \"sumAbundance\")\n",
        "colnames(agg_tab) <- c(\"Year\" , \"number_read\")\n",
        "agg_tab$Year <- as.factor(agg_tab$Year)\n",
        "\n",
        " ggplot()  + geom_bar(data=agg_tab, aes(x=Year, y=number_read, fill = Year), stat=\"identity\") +  theme(text = element_text(size=20))"
      ]
    },
    {
      "cell_type": "markdown",
      "source": [
        "Now we are using ggplot as outlined above to visualize our data. A CHEAT SHEET to better understand and use ggplot2 can be found here: [open CHEAT SHEET](https://drive.google.com/file/d/1pPZdUGQqfwDOEY7xY7Uw4o6siYVDIORj/view?usp=sharing)\n",
        "More can be found here: https://ggplot2.tidyverse.org/"
      ],
      "metadata": {
        "id": "PcB31GXy3EVo"
      }
    },
    {
      "cell_type": "markdown",
      "source": [
        "##<font color='red'>Q2:</font>\n",
        "\n",
        "##What is the max number of reads per sample? What is the min? What is the avarage number of reads?"
      ],
      "metadata": {
        "id": "40_vqxBn-J_H"
      }
    },
    {
      "cell_type": "code",
      "source": [
        "#answer\n",
        "#hint: use functions in R such as max()"
      ],
      "metadata": {
        "id": "75zzjcfS-bc7"
      },
      "execution_count": null,
      "outputs": []
    },
    {
      "cell_type": "markdown",
      "source": [
        "## Let’s see the number of reads per OTU in each sample (for the first 5 samples)"
      ],
      "metadata": {
        "id": "G7OGx_Gn-hj2"
      }
    },
    {
      "cell_type": "code",
      "execution_count": null,
      "metadata": {
        "id": "QCY2yAEg5aQj"
      },
      "outputs": [],
      "source": [
        "ra_tab <- data[-c(1)]\n",
        "ra_tab <- ra_tab[1:5,]\n",
        "ra_tab$ID <- rownames(ra_tab)\n",
        "melt_tab <- melt(ra_tab)\n",
        "colnames(melt_tab) = c(\"ID\",\"OTU\",\"Abundance\")\n",
        "head(melt_tab)\n",
        "tab_taxa <- merge(x =melt_tab , y = taxonomy , by.x  = \"OTU\" , by.y = \"OTU\")\n",
        "tab_taxa$OTU_Genus = paste(tab_taxa$OTU , tab_taxa$Genus , sep = \"_\")\n",
        "tab_taxa$OTU_Genus[tab_taxa$Abundance <= 1000] <- \"Other\" \n",
        "tab_taxa$OTU_Genus <- reorder(tab_taxa$OTU_Genus , tab_taxa$Abundance)\n",
        "tab_taxa1 <- merge(x =tab_taxa  , y = metadata, by = \"ID\")\n",
        "tab_taxa1$Year = as.factor(tab_taxa1$Year)"
      ]
    },
    {
      "cell_type": "code",
      "source": [
        "dir.create(\"plots\")\n",
        "p2 <- ggplot()  + geom_bar(data=tab_taxa1, aes(x=ID, y=Abundance, fill = OTU_Genus), stat=\"identity\") + scale_color_brewer(palette=\"Dark2\")+\n",
        "theme_bw() + theme(text = element_text(size = 19 , colour = \"black\"),\n",
        "                       axis.text = element_text(size = 19 , colour = \"black\" ),\n",
        "                       axis.title = element_text(size = 19 , colour = \"black\" ),\n",
        "                       strip.text = element_text(size = 19 , colour = \"black\" ),\n",
        "                       axis.text.x = element_text(angle = 60, hjust = 1 , colour=\"black\", size = 19),\n",
        "                       panel.grid.major = element_blank(),\n",
        "                       panel.grid.minor = element_blank(), \n",
        "                       axis.line = element_line(colour = \"black\") ,\n",
        "                       legend.title = element_text(color = \"black\", size = 19),\n",
        "                       legend.text = element_text(color = \"black\", size = 19) ,\n",
        "                       strip.background = element_rect(colour = \"black\", fill = \"white\"))\n",
        "\n",
        "htmlwidgets::saveWidget(ggplotly(p2), \"plots/AbundanceOTU.html\")\n",
        "\n",
        "options(repr.plot.width=15, repr.plot.height=8)\n",
        "p2"
      ],
      "metadata": {
        "id": "B5J3TXwA-6gB"
      },
      "execution_count": null,
      "outputs": []
    },
    {
      "cell_type": "markdown",
      "source": [
        "##<font color='red'>Q3:</font> \n",
        "\n",
        "###What are the most abundant OTUs in each of the samples? Open the plot in plots folder.\n",
        "###Does it makes sense to campaire samples without normalization?\n",
        "###How can we normalize the data to compare the samples?"
      ],
      "metadata": {
        "id": "AE_NwtNg-N6P"
      }
    },
    {
      "cell_type": "markdown",
      "source": [
        ">>\n",
        "##Normalization approaches for microbiome data:\n",
        "\n",
        "1.   Rarefying: Subsample taxa without replacement so that all samples have the same library size \n",
        "2.   Proportion (Relative abundance): Counts are divided by total library size (scaling between 0 and)"
      ],
      "metadata": {
        "id": "hYS53TNH_YZA"
      }
    },
    {
      "cell_type": "markdown",
      "source": [
        "##Let's visulize the previous plot on normalize table(relative abundance)"
      ],
      "metadata": {
        "id": "QmhZvMN6_gGF"
      }
    },
    {
      "cell_type": "code",
      "source": [
        "ra_tab <- decostand(data[-c(1)], method=\"total\", MARGIN=1) # this returns a standardized data frame. Standardization, as contrasted to transformation, means that the entries are transformed relative to other entries.\n",
        "ra_tab <- ra_tab[1:5,]\n",
        "ra_tab$ID <- rownames(ra_tab)\n",
        "melt_tab <- melt(ra_tab)\n",
        "colnames(melt_tab) = c(\"ID\",\"OTU\",\"Abundance\")\n",
        "head(melt_tab)\n",
        "tab_taxa <- merge(x =melt_tab , y = taxonomy , by.x  = \"OTU\" , by.y = \"OTU\")\n",
        "tab_taxa$OTU_Genus = paste(tab_taxa$OTU , tab_taxa$Genus , sep = \"_\")\n",
        "tab_taxa$OTU_Genus[tab_taxa$Abundance <= 0.02] <- \"Other\" \n",
        "tab_taxa$OTU_Genus <- reorder(tab_taxa$OTU_Genus , tab_taxa$Abundance)\n",
        "tab_taxa1 <- merge(x =tab_taxa  , y = metadata, by = \"ID\")\n",
        "tab_taxa1$Year = as.factor(tab_taxa1$Year)"
      ],
      "metadata": {
        "id": "f8bMarv1_Zp7"
      },
      "execution_count": null,
      "outputs": []
    },
    {
      "cell_type": "code",
      "source": [
        "p3 <- ggplot()  + geom_bar(data=tab_taxa1, aes(x=ID, y=Abundance, fill = OTU_Genus), stat=\"identity\") + scale_color_brewer(palette=\"Dark2\")+\n",
        "theme_bw() + theme(text = element_text(size = 19 , colour = \"black\"),\n",
        "                       axis.text = element_text(size = 19 , colour = \"black\" ),\n",
        "                       axis.title = element_text(size = 19 , colour = \"black\" ),\n",
        "                       strip.text = element_text(size = 19 , colour = \"black\" ),\n",
        "                       axis.text.x = element_text(angle = 60, hjust = 1 , colour=\"black\", size = 19),\n",
        "                       panel.grid.major = element_blank(),\n",
        "                       panel.grid.minor = element_blank(), \n",
        "                       axis.line = element_line(colour = \"black\") ,\n",
        "                       legend.title = element_text(color = \"black\", size = 19),\n",
        "                       legend.text = element_text(color = \"black\", size = 19) ,\n",
        "                       strip.background = element_rect(colour = \"black\", fill = \"white\"))\n",
        "\n",
        "htmlwidgets::saveWidget(ggplotly(p3), \"plots/RelativeAbundanceOTU.html\")\n",
        "\n",
        "options(repr.plot.width=15, repr.plot.height=8)\n",
        "p3"
      ],
      "metadata": {
        "id": "NltBzK7J_nj5"
      },
      "execution_count": null,
      "outputs": []
    },
    {
      "cell_type": "markdown",
      "source": [
        "##Plot and compaire the compotion of microbioe in \"Genus\" taxonomic level over years across different Compartments of plant"
      ],
      "metadata": {
        "id": "0BsJGBqI_zsU"
      }
    },
    {
      "cell_type": "code",
      "source": [
        "ra_tab <- decostand(data[-c(1)], method=\"total\", MARGIN=1) # this returns a standardized data frame. Standardization, as contrasted to transformation, means that the entries are transformed relative to other entries.\n",
        "ra_tab$ID <- rownames(ra_tab)\n",
        "melt_tab <- melt(ra_tab)\n",
        "colnames(melt_tab) = c(\"ID\",\"OTU\",\"RelativeAbundance\")\n",
        "head(melt_tab)\n",
        "tab_taxa <- merge(x =melt_tab , y = taxonomy , by.x  = \"OTU\" , by.y = \"OTU\")\n",
        "agg_tab <- aggregate(tab_taxa[,3], list(tab_taxa$Genus), sum) ## sum of relative abundance of different orders in all samples colnames(agg) = c(\"order1\" , \"sumAbundance\")\n",
        "#head(agg_tab)\n",
        "colnames(agg_tab) <- c(\"Genus\",\"sumAbundance\")\n",
        "agg_tab$Genus1 <- agg_tab$Genus # copy of this col because i want to have main col and change the order of this column to \"other\" category\n",
        "agg_tab$Genus1[agg_tab$sumAbundance <= 20] <- \"Other\" \n",
        "#head(agg_tab) \n",
        "#length(unique(agg_tab$Genus1))\n",
        "tab_taxa1 <- merge(tab_taxa, agg_tab ,by =\"Genus\")  #add the information of changing orders name to main data frame\n",
        "tab_taxa1$Genus1 <- reorder(tab_taxa1$Genus1 , tab_taxa1$sumAbundance)\n",
        "tab_taxa1 <- merge(x =tab_taxa1  , y = metadata, by = \"ID\")\n",
        "tab_taxa1$Year = as.factor(tab_taxa1$Year)"
      ],
      "metadata": {
        "id": "5W982Vh__4qx"
      },
      "execution_count": null,
      "outputs": []
    },
    {
      "cell_type": "code",
      "source": [
        "col <- c(\"#0F85B0\",\"#FD861E\",\"#F9DA73\" , \"#16B7B2\" , \"#AF65B2\",\"#905E45\",\"#416B4C\",\"#CE5A17\",\"#776804\",\"#2B2B83\",\"#999999\")\n",
        "\n",
        "p4 <- ggplot()  + geom_bar(data=tab_taxa1, aes(x=Compartment, y=RelativeAbundance, fill = Genus1), stat=\"identity\", position=\"fill\") +\n",
        "    facet_wrap(.~ Year, scales = 'free_x' , nrow = 1 , strip.position=\"bottom\")  +\n",
        "    scale_fill_manual(values=rev(col)) +\n",
        "    guides(fill=guide_legend(ncol=1))  + \n",
        "    theme_bw() + theme(text = element_text(size = 19 , colour = \"black\"),\n",
        "                       axis.text = element_text(size = 19 , colour = \"black\" ),\n",
        "                       axis.title = element_text(size = 19 , colour = \"black\" ),\n",
        "                       strip.text = element_text(size = 19 , colour = \"black\" ),\n",
        "                       axis.text.x = element_text(angle = 60, hjust = 1 , colour=\"black\", size = 19),\n",
        "                       panel.grid.major = element_blank(),\n",
        "                       panel.grid.minor = element_blank(), \n",
        "                       axis.line = element_line(colour = \"black\") ,\n",
        "                       legend.title = element_text(color = \"black\", size = 19),\n",
        "                       legend.text = element_text(color = \"black\", size = 19) ,\n",
        "                       strip.background = element_rect(colour = \"black\", fill = \"white\")) +\n",
        "         ylab(\"Relative abundance\") + xlab(\"Year_Compartment\") + labs(fill = \"Genus\")\n",
        "options(repr.plot.width=10, repr.plot.height=5)\n",
        "#ggplotly(p1)\n",
        "p4\n",
        "htmlwidgets::saveWidget(ggplotly(p4), \"plots/Genus_RA_Plot.html\")"
      ],
      "metadata": {
        "id": "Rw6GeKXj_-vv"
      },
      "execution_count": null,
      "outputs": []
    },
    {
      "cell_type": "markdown",
      "source": [
        "##Do you see any differences between Genus in epyhitic and endophytic samples? do you think is it significant?\n",
        "\n",
        "##Compair Genus in epyhitic and endophytic (2 group) samples using Wilcoxon signed-rank test"
      ],
      "metadata": {
        "id": "c585rfxrAzbz"
      }
    },
    {
      "cell_type": "code",
      "source": [
        "wilcox.test(RelativeAbundance ~ Compartment, data = tab_taxa1)"
      ],
      "metadata": {
        "id": "2npcXEv3A-WB"
      },
      "execution_count": null,
      "outputs": []
    },
    {
      "cell_type": "markdown",
      "source": [
        "##Compair Genus among years (more than 2 groups) anova test and Tukey HSD Test"
      ],
      "metadata": {
        "id": "2IciW2x8Dz5J"
      }
    },
    {
      "cell_type": "code",
      "source": [
        "anova <- aov(RelativeAbundance ~ Genus1, data = tab_taxa1)\n",
        "summary(anova)\n",
        "TukeyHSD(aov(RelativeAbundance ~ Genus1, data = tab_taxa1))\n"
      ],
      "metadata": {
        "id": "55WTQv4kD_hw"
      },
      "execution_count": null,
      "outputs": []
    },
    {
      "cell_type": "markdown",
      "source": [
        "##<font color='red'>Q4:</font> \n",
        "\n",
        "##Plot and compaire the compotion of microbioe in \"Family\" taxonomic level between infected and non-infected samples(\"Infection_stage)\n",
        "\n",
        "##Is threre any significantly differences?"
      ],
      "metadata": {
        "id": "5QRGxApCEkFs"
      }
    },
    {
      "cell_type": "code",
      "source": [
        "#type your answer"
      ],
      "metadata": {
        "id": "8w9HjjwyHB5V"
      },
      "execution_count": null,
      "outputs": []
    },
    {
      "cell_type": "code",
      "source": [
        ""
      ],
      "metadata": {
        "id": "GPpQq5C4HJ3Y"
      },
      "execution_count": null,
      "outputs": []
    },
    {
      "cell_type": "code",
      "source": [
        ""
      ],
      "metadata": {
        "id": "oHQO4SSZHJpN"
      },
      "execution_count": null,
      "outputs": []
    },
    {
      "cell_type": "code",
      "source": [
        ""
      ],
      "metadata": {
        "id": "Oex3v5x7HJY3"
      },
      "execution_count": null,
      "outputs": []
    },
    {
      "cell_type": "markdown",
      "source": [
        "## Calculate within sample diversity (alpha-diiversity) and plot it"
      ],
      "metadata": {
        "id": "Du8h2b2KBXj6"
      }
    },
    {
      "cell_type": "code",
      "execution_count": null,
      "metadata": {
        "id": "lYLeCP737XWb"
      },
      "outputs": [],
      "source": [
        "#Diversity\n",
        "alpha_div <- data.frame(diversity(data[-c(1)] , index =\"shannon\"))\n",
        "colnames(alpha_div) = \"ShannonDiversity\"\n",
        "alpha_div <- merge(alpha_div , metadata , by = \"row.names\")\n",
        "head(alpha_div)\n",
        "\n"
      ]
    },
    {
      "cell_type": "code",
      "source": [
        "plot_alpha_diversity <- ggplot( alpha_div, aes(x = Compartment , y = ShannonDiversity))  + \n",
        "    geom_boxplot( fill='#009E73', color=\"black\"  , outlier.shape=NA ,width=0.2 , lwd = 0.4 ,linetype = \"dashed\" , \n",
        "                  position = position_dodge(width=6))  + \n",
        "    stat_boxplot(aes(ymin = ..lower.., ymax = ..upper..) ,fill='#009E73' ,outlier.shape=NA ,width=0.7 , lwd = 0.4) +\n",
        "    stat_boxplot(geom = \"errorbar\", aes(ymin = ..ymax..), width=0.3) +\n",
        "    stat_boxplot(geom = \"errorbar\", aes(ymax = ..ymin..) ,width=0.3) + \n",
        "    geom_jitter(alpha = 1 , color = \"black\" , position = position_jitter(width = 0.3) , size = 0.2) + \n",
        "    theme(axis.text.x = element_text(angle = 60, hjust = 1 , colour=\"black\", size = 14), \n",
        "          axis.text.y = element_text(angle=90, hjust=1 , size = 14 , colour=\"black\" ) , \n",
        "          axis.title.y =  element_text(angle=90, size = 14) ,\n",
        "          axis.title.x = element_blank() ,\n",
        "          panel.background = element_rect(colour = \"black\" , fill = \"NA\"),\n",
        "          panel.grid.major = element_blank(), panel.grid.minor = element_blank()) + ylim(0,6) +\n",
        "    stat_compare_means(aes(label = paste0(\"p = \", ..p.signif..)) , method = \"wilcox.test\")\n",
        "options(repr.plot.width=4, repr.plot.height=5)\n",
        "plot_alpha_diversity"
      ],
      "metadata": {
        "id": "R5KeV3caYrDO"
      },
      "execution_count": null,
      "outputs": []
    },
    {
      "cell_type": "markdown",
      "source": [
        "Most used alpha-diversity indices are:\n",
        "\n",
        "- Simpson index: is a dominance index because it gives more weight to common or dominant species. In this case, a few rare species with only a few representatives will not affect the diversity.   \n",
        "- Shannon index: is an information statistic index, which means it assumes all species are represented in a sample and that they are randomly sampled. \n",
        "- Chao index: is calculated like normal species richness but takes into account the size of the sample and the probability to miss some species (applies a correction for this)."
      ],
      "metadata": {
        "id": "AUo8e45s_J6X"
      }
    },
    {
      "cell_type": "markdown",
      "source": [
        "##<font color='red'>Q5:</font> \n",
        "##Calculate within sample diversity (alpha diversity) between infected and non-infected samples\n",
        "\n",
        "##Is there significantly differences?"
      ],
      "metadata": {
        "id": "GhDr_BUgKmPo"
      }
    },
    {
      "cell_type": "code",
      "source": [
        "#your answer"
      ],
      "metadata": {
        "id": "s7ITD2xAKolH"
      },
      "execution_count": null,
      "outputs": []
    },
    {
      "cell_type": "markdown",
      "source": [
        "## Calculate between sample diversity (beta-diversity) and plot it"
      ],
      "metadata": {
        "id": "4fPd5TruBp6p"
      }
    },
    {
      "cell_type": "markdown",
      "source": [
        "While alpha-diversity represents the diversity within an ecosystem or a sample, beta-diversity represents the difference between two ecosystems/samples. In other word, how similar or different are two ecosystems or samples? So, beta-diversity is a distance between two samples. Microbial ecologists do not use Euclidean distances but usually use Bray-Curtis, Jaccard or weight/unweight Unifrac distances to estimate the betadiversity.\n",
        "\n",
        "- Bray-Curtis dissimilarity: based on occurrence data (abundance)\n",
        "- Jaccard distance: based on presence/absence data (does not include abundance information).\n",
        "- UniFrac distances: take into account the occurrence table and the phylogeny diversity (sequence distance). Weighted or unweighted UniFrac distances depending if taking into account relative abundance or only presence/absence."
      ],
      "metadata": {
        "id": "72XRpQKMFMnC"
      }
    },
    {
      "cell_type": "code",
      "source": [
        "pca_bray_rarefied.tab <- dudi.pco(vegdist(data[-c(1)], method=\"bray\", binary=FALSE), scannf=F)\n",
        "metadata$Compartment <- as.factor(metadata$Compartment)\n",
        "options(repr.plot.width=8, repr.plot.height=7)\n",
        "s.class(pca_bray_rarefied.tab$li, metadata$Compartment, xax=1, yax=2, cpoint=3, grid=F, addaxes=T, cellipse=1, cstar=0, axesell=0, col = c(\"blue\",\"red\"), clabel = 2, sub=\"Bray-Curtis\")"
      ],
      "metadata": {
        "id": "eNJxhbv_apos"
      },
      "execution_count": null,
      "outputs": []
    },
    {
      "cell_type": "markdown",
      "source": [
        "To test whether the groups are different with respect to centroid and dispersion, a PERMANOVA statistical test is performed. For this a multivariate extension of ANOVA will be used, as there are many OTUs that will be used in the test. The extension is based on distances between samples. The test compares distances of samples within the same group to distances of samples from different groups. If the distance between samples from the different groups is much larger than samples from the same group, we conclude that the groups are not equal.\n",
        "\n",
        "In order to test the significance of the result, a permutation test is used. Thus all samples are randomly mixed over the groups and the test is repeated many times. If the ratio (between group distance / within group distance) is much larger for the original data than for the permutations, we conclude there is a statistical significant difference.\n",
        "\n",
        "The test can be applied in combination with any distance measure."
      ],
      "metadata": {
        "id": "J9QjoW_wKqh9"
      }
    },
    {
      "cell_type": "code",
      "source": [
        "# Permanova test using the vegan package\n",
        "ado <- adonis2(data[-c(1)]~metadata$Compartment, permutations=99, method=\"bray\")\n",
        "ado"
      ],
      "metadata": {
        "id": "NNSkVJw5G_KV"
      },
      "execution_count": null,
      "outputs": []
    },
    {
      "cell_type": "markdown",
      "source": [
        "##<font color='red'>Q6:</font> \n",
        "##Calculate between sample diversity (beta diiversity) between infected and non-infected samples among epi and endo samples\n",
        "\n",
        "##how much variation of data are explained by infection in the plants?"
      ],
      "metadata": {
        "id": "_XmhQ8MaL2hj"
      }
    },
    {
      "cell_type": "code",
      "source": [
        "#your answer"
      ],
      "metadata": {
        "id": "bhym7txNMSWY"
      },
      "execution_count": null,
      "outputs": []
    },
    {
      "cell_type": "code",
      "source": [
        ""
      ],
      "metadata": {
        "id": "nyympy40MWNg"
      },
      "execution_count": null,
      "outputs": []
    },
    {
      "cell_type": "code",
      "source": [
        ""
      ],
      "metadata": {
        "id": "_AAX8NmbMV_P"
      },
      "execution_count": null,
      "outputs": []
    },
    {
      "cell_type": "code",
      "source": [
        ""
      ],
      "metadata": {
        "id": "XqFwuODgMVxE"
      },
      "execution_count": null,
      "outputs": []
    },
    {
      "cell_type": "markdown",
      "source": [
        "## Calculate the corelation between OTU's"
      ],
      "metadata": {
        "id": "shSwsLtJB7vs"
      }
    },
    {
      "cell_type": "code",
      "source": [
        "\n",
        "\n",
        "data_net <- data.frame(t(data[-c(1)]))\n",
        "dim(data_net)\n",
        "data_net$OTU <- rownames(data_net)\n",
        "data_net <- merge(taxonomy[c(\"OTU\" ,\"Genus\")] , data_net , by = \"OTU\")\n",
        "data_net$OTU_Genus <- paste(data_net$OTU , data_net$Genus , sep = \"_\")\n",
        "rownames(data_net) <- data_net$OTU_Genus\n",
        "data_net <- subset(data_net , select = -c(OTU , Genus , OTU_Genus))\n",
        "data_net <- data_net[rowSums(data_net)>=1000 , ]\n",
        "dim(data_net)"
      ],
      "metadata": {
        "id": "_gSkWkuBtjnm"
      },
      "execution_count": null,
      "outputs": []
    },
    {
      "cell_type": "markdown",
      "source": [
        "The issue with correlations between microbes in microbiome data is that the data is compositional; it describes the relative abundance of microbes, not absolute numbers like if determining microbial load with qPCR. Each OTU contributes a proportion of reads that add up to 100% in each sample. The problem with searching for correlations here is that if there is an increase in one OTU, all of the other OTUs must decrease, and this ends up looking like a negative correlation between the increased OTU and everything else when this may not be the case.\n",
        "\n",
        "SparCC determines correlations between OTUs taking this specific problem into account."
      ],
      "metadata": {
        "id": "hnBzLn71B62V"
      }
    },
    {
      "cell_type": "code",
      "source": [
        "sparcc.data <- sparcc(t(data_net))"
      ],
      "metadata": {
        "id": "O2goMY0GSFpq"
      },
      "execution_count": null,
      "outputs": []
    },
    {
      "cell_type": "code",
      "source": [
        "\n",
        "## Define arbitrary threshold for SparCC correlation matrix for the graph\n",
        "sparcc.graph <- abs(sparcc.data$Cor) >= 0.3\n",
        "diag(sparcc.graph) <- 0\n",
        "library(Matrix)\n",
        "sparcc.graph <- Matrix(sparcc.graph, sparse=TRUE)\n",
        "## Create igraph objects\n",
        "ig.sparcc <- adj2igraph(sparcc.graph)"
      ],
      "metadata": {
        "id": "4sK0T6-ss8Ht"
      },
      "execution_count": null,
      "outputs": []
    },
    {
      "cell_type": "code",
      "source": [
        "rownames(sparcc.data$Cor) <- rownames(data_net)\n",
        "colnames(sparcc.data$Cor) <- rownames(data_net)\n",
        "sparcc.graph <- abs(sparcc.data$Cor) >= 0.3\n",
        "diag(sparcc.graph) <- 0\n",
        "#sort(rowSums(sparcc.graph))\n",
        "sparcc.graph = sparcc.graph[rowSums(sparcc.graph)>=4,]\n",
        "sparcc.graph = sparcc.graph[,(colnames(sparcc.graph) %in% rownames(sparcc.graph))]\n",
        "library(Matrix)\n",
        "sparcc.graph <- Matrix(sparcc.graph, sparse=TRUE)\n",
        "## Create igraph objects\n",
        "ig.sparcc <- adj2igraph(sparcc.graph,vertex.attr = list(name = rownames(sparcc.graph) ,ff = 1:nrow(sparcc.graph) ) )"
      ],
      "metadata": {
        "id": "h0A2LKmrQq78"
      },
      "execution_count": null,
      "outputs": []
    },
    {
      "cell_type": "code",
      "source": [
        "dim(sparcc.graph)\n"
      ],
      "metadata": {
        "id": "jOS8ChZ8SXY7"
      },
      "execution_count": null,
      "outputs": []
    },
    {
      "cell_type": "markdown",
      "source": [
        "## Visualize the correlation matrix as a network"
      ],
      "metadata": {
        "id": "BJCVq0fQCLEL"
      }
    },
    {
      "cell_type": "markdown",
      "source": [
        "Network graph (force directed graph) is a mathematical structure (graph) for visually presenting networks of connected entities as links and nodes. Nodes or vertices represent data points and links represent the connections between them. Links are often called edges in social or microbial networks.\n"
      ],
      "metadata": {
        "id": "N0dhhykwMGMA"
      }
    },
    {
      "cell_type": "code",
      "source": [
        "options(repr.plot.width=8, repr.plot.height=7)\n",
        "plot(ig.sparcc, vertex.label=1:nrow(sparcc.graph), main=\"sparcc\" , vertex.size=8 , edge.color = \"black\" , edge.width = 3 )\n"
      ],
      "metadata": {
        "id": "tgS5EbD05aKX"
      },
      "execution_count": null,
      "outputs": []
    },
    {
      "cell_type": "markdown",
      "source": [
        "## Do some analysis on the network(calculate centality and degree of each node)"
      ],
      "metadata": {
        "id": "a4nUeobRCHRH"
      }
    },
    {
      "cell_type": "markdown",
      "source": [
        "Centrality measures address the question: \n",
        "**'Who is the most important or central node in this network?'**\n",
        "\n",
        "Centrality measures are a vital tool for understanding networks.\n",
        "\n",
        "These algorithms use graph theory to calculate the importance of any given node in a network. They cut through noisy data, revealing parts of the network that need attention – but they all work differently. Each measure has its own definition of ‘importance’, so you need to understand how they work to find the best one for your graph visualization applications.\n",
        "\n",
        "- **Degree or Degree Centality**: assigns an importance score based simply on the number of links held by each node.\n",
        "\n",
        "What it tells us: How many direct connections each node has to other nodes in the network.\n",
        "When to use it: For finding very connected microbes, microbes that are likely to provide something importnat or microbes that can quickly connect with the wider network.\n",
        "- **Betweenness centrality**: measures the number of times a node lies on the shortest path between other nodes.\n",
        "\n",
        "What it tells us: This measure shows which nodes are ‘bridges’ between nodes in a network. It does this by identifying all the shortest paths and then counting how many times each node falls on one.\n",
        "When to use it: For finding the microbes that influence the flow around a system.\n",
        "- **Closeness centrality**: scores each node based on their ‘closeness’ to all other nodes in the network.\n",
        "\n",
        "What it tells us: This measure calculates the shortest paths between all nodes, then assigns each node a score based on its sum of shortest paths. When to use it: For finding the microbes that are best placed to influence the entire network most quickly.\n",
        "\n",
        "- **EigenCentrality**: Like degree, EigenCentrality measures a node’s influence based on the number of links it has to other nodes in the network. EigenCentrality then goes a step further by also taking into account how well connected a node is, and how many links their connections have, and so on through the network.\n",
        "\n",
        "What it tells us: By calculating the extended connections of a node, EigenCentrality can identify nodes with influence over the whole network, not just those directly connected to it. When to use it: EigenCentrality is a good ‘all-round’ score, handy for understanding microbial networks.\n"
      ],
      "metadata": {
        "id": "GcGupPulOxHY"
      }
    },
    {
      "cell_type": "code",
      "source": [
        "library(igraph)\n",
        "closeness<- data.frame(closeness(ig.sparcc , mode = \"all\" , weights = NA))\n",
        "betweenness <- data.frame(betweenness(ig.sparcc , directed = F , normalized = TRUE))\n",
        "degree <- data.frame(degree(ig.sparcc, mode=\"all\"))\n",
        "net_analysis <- cbind(closeness , betweenness[1] , degree)\n",
        "colnames(net_analysis) <- c(\"ClosenessCentrality\" , \"BetweennessCentrality\" , \"degree\")\n",
        "taxonomy$OTU_Genus <- paste(taxonomy$OTU , taxonomy$Genus , sep = \"_\")\n",
        "net_analysis <- merge(net_analysis , taxonomy , by.x = \"row.names\" , by.y = \"OTU_Genus\")\n",
        "colnames(net_analysis)[1] <- \"OTU_Genus\"\n",
        "#net_analysis <- na.omit(net_analysis)      \n",
        "#net_analysis <- net_analysis[!(net_analysis$ClosenessCentrality==1 &net_analysis$BetweennessCentrality==0), ]\n"
      ],
      "metadata": {
        "id": "7SOFNE5ni-Fi"
      },
      "execution_count": null,
      "outputs": []
    },
    {
      "cell_type": "markdown",
      "source": [
        "## Plot the degree distribution of network"
      ],
      "metadata": {
        "id": "R_byvBs4C3Lv"
      }
    },
    {
      "cell_type": "markdown",
      "source": [
        "In the study of graphs and networks, the degree of a node in a network is the number of connections it has to other nodes and the degree distribution is the probability distribution of these degrees over the whole network."
      ],
      "metadata": {
        "id": "bEQUelQbUqEo"
      }
    },
    {
      "cell_type": "code",
      "source": [
        "dd.sparcc <- degree.distribution(ig.sparcc)\n",
        "plot(0:(length(dd.sparcc)-1), dd.sparcc, type='b',\n",
        "      ylab=\"Frequency\", xlab=\"Degree\", main=\"Degree Distributions\" ,col=\"forestgreen\")\n",
        "legend(\"topright\",col=c(\"forestgreen\"), pch=1, lty=1)"
      ],
      "metadata": {
        "id": "bwbe14n9zPNp"
      },
      "execution_count": null,
      "outputs": []
    },
    {
      "cell_type": "markdown",
      "source": [
        "The degree distribution is very important in studying networks. Most networks in the real world, are highly right-skewed, meaning that a large majority of nodes have low degree but a small number, known as \"**hubs**\", have high degree. Most microbial networks were argued to have degree distributions that approximately follow a power law. Such networks are called **scale-free networks**."
      ],
      "metadata": {
        "id": "EVHM9WVJVWLn"
      }
    },
    {
      "cell_type": "markdown",
      "source": [
        "## Find the hubs in the network and plot them"
      ],
      "metadata": {
        "id": "weDhO34rDOum"
      }
    },
    {
      "cell_type": "code",
      "source": [
        "#plot hub\n",
        "n <- 5 #threshold for Hub\n",
        "library(ggrepel)\n",
        "top5_BC <- net_analysis[net_analysis$BetweennessCentrality > quantile(net_analysis$BetweennessCentrality,prob=1-n/100),]$OTU_Genus\n",
        "\n",
        "top5_BC_min<-min(net_analysis[net_analysis$BetweennessCentrality > quantile(net_analysis$BetweennessCentrality,prob=1-n/100),]$BetweennessCentrality)\n",
        "\n",
        "top5_CC<-net_analysis[net_analysis$ClosenessCentrality > quantile(net_analysis$ClosenessCentrality,prob=1-n/100),]$OTU_Genus\n",
        "  \n",
        "top5_CC_min<-min(net_analysis[net_analysis$ClosenessCentrality > quantile(net_analysis$ClosenessCentrality,prob=1-n/100),]$ClosenessCentrality)\n",
        "  \n",
        "p5_Intersection <- top5_BC[which((top5_BC %in% top5_CC) == TRUE)]\n",
        "  \n",
        "p5_IntersectionH = p5_Intersection\n",
        "length(p5_IntersectionH)\n",
        "core = as.data.frame(p5_IntersectionH)\n",
        "core$core = \"yes\"\n",
        "colnames(core) = c(\"Species\" , \"Hub\")\n",
        "select = subset(net_analysis, !(OTU_Genus %in% core$Species))\n",
        "select$core = \"No\"\n",
        "select1 = select[,c(\"OTU_Genus\",\"core\")] #take name and core info\n",
        "colnames(select1) = c(\"Species\" , \"Hub\")\n",
        "newnet_analysis = rbind(select1 , core)\n",
        "#newnet_analysis$sort = seq(1,nrow(newnet_analysis))\n",
        "newnet_analysisH = merge(x = net_analysis , y = newnet_analysis , by.x = \"OTU_Genus\" , by.y = \"Species\")\n",
        "expression <- ggplot(newnet_analysisH, aes(x = ClosenessCentrality, y= BetweennessCentrality , label=Genus)) \n",
        "z <- expression + geom_point(aes(colour=degree , size = degree) ,stat= \"identity\",position=\"identity\",alpha= 0.4 ) + \n",
        "    scale_colour_gradient(low = \"blue\", high = \"red\") + \n",
        "    labs(title = \"Hub analysis\") +\n",
        "    scale_size_area(max_size = 10)+\n",
        "    geom_vline(xintercept = top5_CC_min, linetype=\"dashed\") +\n",
        "    geom_hline(yintercept = top5_BC_min, linetype= \"dashed\") +\n",
        "    scale_x_continuous(\"Closeness Centrality\") +\n",
        "    scale_y_continuous(\"Betweenness Centrality\") +\n",
        "    scale_shape_manual(values=c(21, 19)) +\n",
        "    geom_text_repel(data=subset(newnet_analysisH, Hub==\"yes\"),size = 7,\n",
        "                    box.padding   = 1.5,\n",
        "                    point.padding = 0.5,\n",
        "                    force         = 100,\n",
        "                    segment.size  = 0.4,\n",
        "                    segment.color = \"darkgreen\") +\n",
        "    theme_bw()+theme(panel.grid.major = element_blank(), panel.grid.minor = element_blank()) + \n",
        "    theme(text = element_text(size=15))\n",
        "\n"
      ],
      "metadata": {
        "id": "C61ssnDo0ETW"
      },
      "execution_count": null,
      "outputs": []
    },
    {
      "cell_type": "markdown",
      "source": [
        ""
      ],
      "metadata": {
        "id": "zQacoeZ3DNZm"
      }
    },
    {
      "cell_type": "code",
      "source": [
        "options(repr.plot.width=10, repr.plot.height=7)\n",
        "z"
      ],
      "metadata": {
        "id": "HZ0e2H4CzDgB"
      },
      "execution_count": null,
      "outputs": []
    },
    {
      "cell_type": "markdown",
      "source": [
        "##<font color='red'>Q7:</font> \n",
        "##Calculate network analysis for infected samples"
      ],
      "metadata": {
        "id": "KRcDxkufNpnC"
      }
    },
    {
      "cell_type": "code",
      "source": [
        "#type your answer\n",
        "#hint: first subset the otu table of infected samples \n",
        "metadata_infected_samples <- subset(metadata , metadata$Infection_Stage==\"Infected\")\n",
        "data1 <- data[rownames(data)%in% rownames(metadata_infected_samples), ]\n",
        "data_net <- data.frame(t(data1[-c(1)]))\n",
        "#now you have the table of infected samples \n",
        "#continue..."
      ],
      "metadata": {
        "id": "y5-ZrGu-NsaK"
      },
      "execution_count": null,
      "outputs": []
    },
    {
      "cell_type": "code",
      "source": [
        ""
      ],
      "metadata": {
        "id": "B2As3eDtNslr"
      },
      "execution_count": null,
      "outputs": []
    },
    {
      "cell_type": "code",
      "source": [
        ""
      ],
      "metadata": {
        "id": "HAsEF4X_Nstv"
      },
      "execution_count": null,
      "outputs": []
    },
    {
      "cell_type": "code",
      "source": [
        ""
      ],
      "metadata": {
        "id": "q_Cx3mJRNsxj"
      },
      "execution_count": null,
      "outputs": []
    },
    {
      "cell_type": "markdown",
      "source": [
        "**Outlook: Machine learning models**\n",
        "\n",
        "\n",
        "An approach to identify underlying microbial community patterns for infection and season using machine learning.\n",
        "\n",
        "<img src=\"https://github.com/IshtarMM/Practical_Course/blob/master/pic/machinelearning.jpg?raw=true\" />\n"
      ],
      "metadata": {
        "id": "rRKgFdyE63tk"
      }
    }
  ],
  "metadata": {
    "colab": {
      "collapsed_sections": [],
      "name": "dataanalysis.ipynb",
      "provenance": []
    },
    "gpuClass": "standard",
    "kernelspec": {
      "display_name": "R",
      "name": "ir"
    },
    "language_info": {
      "name": "R"
    }
  },
  "nbformat": 4,
  "nbformat_minor": 0
}